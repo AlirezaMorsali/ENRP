{
 "cells": [
  {
   "cell_type": "code",
   "execution_count": null,
   "metadata": {},
   "outputs": [],
   "source": [
    "from results import *\n",
    "import numpy as np\n",
    "import matplotlib.pyplot as plt\n",
    "import pandas as pd\n",
    "import seaborn as sns\n",
    "from matplotlib.ticker import (AutoMinorLocator, MultipleLocator)"
   ]
  },
  {
   "cell_type": "code",
   "execution_count": null,
   "metadata": {},
   "outputs": [],
   "source": [
    "losses.keys()"
   ]
  },
  {
   "cell_type": "code",
   "execution_count": null,
   "metadata": {},
   "outputs": [],
   "source": [
    "minLoss.keys()"
   ]
  },
  {
   "cell_type": "code",
   "execution_count": null,
   "metadata": {},
   "outputs": [],
   "source": [
    "paramss"
   ]
  },
  {
   "cell_type": "code",
   "execution_count": null,
   "metadata": {},
   "outputs": [],
   "source": [
    "reportIter"
   ]
  },
  {
   "cell_type": "code",
   "execution_count": null,
   "metadata": {},
   "outputs": [],
   "source": [
    "reportLoss"
   ]
  },
  {
   "cell_type": "code",
   "execution_count": null,
   "metadata": {},
   "outputs": [],
   "source": [
    "losss = []\n",
    "for i in ['grid_1', 'grid_2', 'grid_4', 'grid_8', 'grid_16', 'grid_32']:\n",
    "    losss.append(minLoss[i])\n",
    "losss = np.array(losss)\n",
    "ress = np.array(['64', '128', '192', '256', '320', '384', '448', '512'])\n",
    "grids = np.array(['1', '2', '4', '8', '16', '32'])\n",
    "PIXEL_MAX = 1.0"
   ]
  },
  {
   "cell_type": "code",
   "execution_count": null,
   "metadata": {},
   "outputs": [],
   "source": [
    "losss.shape # Grid Report"
   ]
  },
  {
   "cell_type": "code",
   "execution_count": null,
   "metadata": {},
   "outputs": [],
   "source": [
    "20 * np.log10(PIXEL_MAX / np.sqrt(losss[:, 1]))"
   ]
  },
  {
   "cell_type": "code",
   "execution_count": null,
   "metadata": {},
   "outputs": [],
   "source": [
    "20 * np.log10(PIXEL_MAX / np.sqrt(losss[:, 1:]))"
   ]
  },
  {
   "cell_type": "code",
   "execution_count": null,
   "metadata": {
    "scrolled": true
   },
   "outputs": [],
   "source": [
    "plt.plot(grids, 20 * np.log10(PIXEL_MAX / np.sqrt(losss[:, 1])), label='res_128')\n",
    "plt.plot(grids, 20 * np.log10(PIXEL_MAX / np.sqrt(losss[:, 2])), label='res_192')\n",
    "plt.plot(grids, 20 * np.log10(PIXEL_MAX / np.sqrt(losss[:, 3])), label='res_256')\n",
    "plt.plot(grids, 20 * np.log10(PIXEL_MAX / np.sqrt(losss[:, 4])), label='res_320')\n",
    "plt.plot(grids, 20 * np.log10(PIXEL_MAX / np.sqrt(losss[:, 5])), label='res_384')\n",
    "plt.plot(grids, 20 * np.log10(PIXEL_MAX / np.sqrt(losss[:, 6])), label='res_448')\n",
    "plt.plot(grids, 20 * np.log10(PIXEL_MAX / np.sqrt(losss[:, 7])), label='res_512')\n",
    "\n",
    "plt.xlabel('Grid')\n",
    "plt.ylabel('PSNR')\n",
    "\n",
    "plt.legend()"
   ]
  },
  {
   "cell_type": "code",
   "execution_count": null,
   "metadata": {},
   "outputs": [],
   "source": [
    "df = pd.DataFrame(20 * np.log10(PIXEL_MAX / np.sqrt(losss[:, 1:])), columns = ['Res 128', 'Res 192', 'Res 256', 'Res 320',\n",
    "                                                                              'Res 384', 'Res 448', 'Res 512'],\n",
    "                 index = ['Grid 1', 'Grid 2', 'Grid 4', 'Grid 8', 'Grid 16', 'Grid 32'])\n",
    "\n",
    "df = pd.DataFrame(20 * np.log10(PIXEL_MAX / np.sqrt(losss[:, 1:])), columns = [128,192,256,320,384,448,512],\n",
    "                 index = [1,2,4,8,16,32])\n",
    "\n",
    "df = df.reset_index()\n",
    "df = df.rename({'index': 'Grid'}, axis = 1)"
   ]
  },
  {
   "cell_type": "code",
   "execution_count": null,
   "metadata": {},
   "outputs": [],
   "source": [
    "df"
   ]
  },
  {
   "cell_type": "code",
   "execution_count": null,
   "metadata": {},
   "outputs": [],
   "source": [
    "res = [128,192,256,320,384,448,512]\n",
    "df2 = pd.DataFrame(columns = ['Grid', 'Res', 'PSNR'])\n",
    "for r in res :\n",
    "    temp = df[['Grid', r]]\n",
    "    temp['Res'] = r\n",
    "    temp = temp.rename({r:'PSNR'}, axis = 1)\n",
    "    temp = temp[['Grid', 'Res', 'PSNR']]\n",
    "    df2 = df2.append(temp)\n",
    "\n",
    "df2['Grid'] = df2['Grid'].astype(str)\n",
    "df2['Res'] = df2['Res'].astype(str)\n",
    "# df2['Grid'] = ((df2['Grid']).astype(int)).apply(np.log2)"
   ]
  },
  {
   "cell_type": "code",
   "execution_count": null,
   "metadata": {},
   "outputs": [],
   "source": [
    "# df2 = df2[['Grid', 'PSNR', \"Res\"]]\n",
    "# df2.groupby(['Res']).agg({'Grid':'display', 'PSNR': np.max})\n",
    "# df2.groupby(['Res']).max().reset_index()"
   ]
  },
  {
   "cell_type": "code",
   "execution_count": null,
   "metadata": {},
   "outputs": [],
   "source": [
    "df2"
   ]
  },
  {
   "cell_type": "code",
   "execution_count": null,
   "metadata": {
    "scrolled": false
   },
   "outputs": [],
   "source": [
    "points = []\n",
    "for res in df2['Res'].unique():\n",
    "    temp = df2[df2['Res'] == res]\n",
    "    temp = temp[temp['PSNR'] == temp['PSNR'].max()]\n",
    "    points.append((temp['Grid'].values, temp['PSNR'].values))\n",
    "# temp"
   ]
  },
  {
   "cell_type": "code",
   "execution_count": null,
   "metadata": {},
   "outputs": [],
   "source": [
    "points"
   ]
  },
  {
   "cell_type": "code",
   "execution_count": null,
   "metadata": {},
   "outputs": [],
   "source": [
    "tick_size = 25\n",
    "label_size = 28\n",
    "title_size = 32\n",
    "\n",
    "plt.figure(figsize = (12,10), dpi = 300)\n",
    "our_plot = sns.lineplot(data = df2,\n",
    "                        x = 'Grid', y = 'PSNR',\n",
    "                        hue = 'Res',\n",
    "                        lw = 3.5, \n",
    "#                         style = 'Res',\n",
    "                        marker=\"o\",\n",
    "                        palette= sns.color_palette(\"hls\", 7),\n",
    "                        markers=True, ms = 15,\n",
    "            )\n",
    "\n",
    "our_plot.legend(['Res ' + str(int(g)) for g in sorted(df2.Res.unique())], prop={'size': 16})\n",
    "\n",
    "# our_plot.xaxis.set_major_locator(MultipleLocator(0.5))\n",
    "our_plot.yaxis.set_major_locator(MultipleLocator(10))    \n",
    "\n",
    "# our_plot.xaxis.set_minor_locator(MultipleLocator(0.1))\n",
    "our_plot.yaxis.set_minor_locator(MultipleLocator(1))\n",
    "\n",
    "\n",
    "our_plot.grid(which = 'major', alpha = 1)\n",
    "# our_plot.grid(which = 'minor', alpha = 0.2)\n",
    "\n",
    "our_plot.set_yticks(np.arange(40, 90, 5))\n",
    "\n",
    "our_plot.set_xlabel(r'Grid', size = label_size)\n",
    "our_plot.set_ylabel('PSNR', size = label_size)\n",
    "\n",
    "\n",
    "for tick in our_plot.xaxis.get_major_ticks():\n",
    "    tick.label.set_fontsize(tick_size) \n",
    "    \n",
    "for tick in our_plot.yaxis.get_major_ticks():\n",
    "    tick.label.set_fontsize(tick_size)\n",
    "    \n",
    "our_plot.set_title('PSNR vs Grid', size = title_size)\n",
    "\n",
    "\n",
    "for x,y in points:\n",
    "#     sns.scatterplot(x = x,y = y, marker = 's', size = 60, c = 'blue')\n",
    "    plt.scatter(x, y, s = 350, c = 1)\n",
    "\n",
    "plt.savefig('PSNR-Grid.png', dpi = 300)    \n",
    "plt.savefig('PSNR-Grid.eps', dpi = 300)\n",
    "plt.show()"
   ]
  },
  {
   "cell_type": "code",
   "execution_count": null,
   "metadata": {},
   "outputs": [],
   "source": []
  },
  {
   "cell_type": "code",
   "execution_count": null,
   "metadata": {},
   "outputs": [],
   "source": []
  },
  {
   "cell_type": "code",
   "execution_count": null,
   "metadata": {},
   "outputs": [],
   "source": [
    "plt.plot(ress, 20 * np.log10(PIXEL_MAX / np.sqrt(losss[0])), label='grid_1')\n",
    "plt.plot(ress, 20 * np.log10(PIXEL_MAX / np.sqrt(losss[1])), label='grid_2')\n",
    "plt.plot(ress, 20 * np.log10(PIXEL_MAX / np.sqrt(losss[2])), label='grid_4')\n",
    "plt.plot(ress, 20 * np.log10(PIXEL_MAX / np.sqrt(losss[3])), label='grid_8')\n",
    "plt.plot(ress, 20 * np.log10(PIXEL_MAX / np.sqrt(losss[4])), label='grid_16')\n",
    "plt.plot(ress, 20 * np.log10(PIXEL_MAX / np.sqrt(losss[5])), label='grid_32')\n",
    "\n",
    "plt.xlabel('Resolution')\n",
    "plt.ylabel('PSNR')\n",
    "\n",
    "plt.legend()"
   ]
  },
  {
   "cell_type": "code",
   "execution_count": null,
   "metadata": {},
   "outputs": [],
   "source": [
    "tick_size = 25\n",
    "label_size = 28\n",
    "title_size = 32\n",
    "\n",
    "plt.figure(figsize = (12,10), dpi = 300)\n",
    "our_plot = sns.lineplot(data = df2,\n",
    "                        x = 'Res', y = 'PSNR',\n",
    "                        hue = 'Grid',\n",
    "                        lw = 3.5, \n",
    "#                         style = 'Res',\n",
    "                        marker=\"o\",\n",
    "                        palette= sns.color_palette(\"hls\", 6),\n",
    "                        markers=True, ms = 15,\n",
    "            )\n",
    "\n",
    "our_plot.legend(['Grid ' + str(int(g)) for g in sorted(df2.Grid.astype(int).unique())], prop={'size': 20})\n",
    "\n",
    "# our_plot.xaxis.set_major_locator(MultipleLocator(0.5))\n",
    "our_plot.yaxis.set_major_locator(MultipleLocator(10))    \n",
    "\n",
    "# our_plot.xaxis.set_minor_locator(MultipleLocator(0.1))\n",
    "our_plot.yaxis.set_minor_locator(MultipleLocator(1))\n",
    "\n",
    "\n",
    "our_plot.grid(which = 'major', alpha = 1)\n",
    "# our_plot.grid(which = 'minor', alpha = 0.2)\n",
    "\n",
    "our_plot.set_yticks(np.arange(40, 90, 5))\n",
    "\n",
    "our_plot.set_xlabel(r'Resolution', size = label_size)\n",
    "our_plot.set_ylabel('PSNR', size = label_size)\n",
    "\n",
    "\n",
    "for tick in our_plot.xaxis.get_major_ticks():\n",
    "    tick.label.set_fontsize(tick_size) \n",
    "    \n",
    "for tick in our_plot.yaxis.get_major_ticks():\n",
    "    tick.label.set_fontsize(tick_size)\n",
    "    \n",
    "our_plot.set_title('PSNR vs Resolution', size = title_size)\n",
    "\n",
    "\n",
    "# for x,y in points:\n",
    "# #     sns.scatterplot(x = x,y = y, marker = 's', size = 60, c = 'blue')\n",
    "#     plt.scatter(x, y, s = 350, c = 1)\n",
    "\n",
    "plt.savefig('PSNR-Resolution.png', dpi = 300)    \n",
    "plt.savefig('PSNR-Resolution.eps', dpi = 300)\n",
    "plt.show()"
   ]
  },
  {
   "cell_type": "code",
   "execution_count": null,
   "metadata": {},
   "outputs": [],
   "source": []
  }
 ],
 "metadata": {
  "kernelspec": {
   "display_name": "Python 3",
   "language": "python",
   "name": "python3"
  },
  "language_info": {
   "codemirror_mode": {
    "name": "ipython",
    "version": 3
   },
   "file_extension": ".py",
   "mimetype": "text/x-python",
   "name": "python",
   "nbconvert_exporter": "python",
   "pygments_lexer": "ipython3",
   "version": "3.8.3"
  }
 },
 "nbformat": 4,
 "nbformat_minor": 4
}
